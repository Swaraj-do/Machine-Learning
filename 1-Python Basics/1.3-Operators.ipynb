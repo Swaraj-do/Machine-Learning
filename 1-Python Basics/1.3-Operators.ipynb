{
 "cells": [
  {
   "cell_type": "code",
   "execution_count": 2,
   "id": "50f8b849",
   "metadata": {},
   "outputs": [
    {
     "name": "stdout",
     "output_type": "stream",
     "text": [
      "15\n",
      "5\n",
      "50\n",
      "2.0\n"
     ]
    }
   ],
   "source": [
    "## Arithmatic operation\n",
    "\n",
    "a=10\n",
    "b=5\n",
    "\n",
    "add_result=a+b\n",
    "sub_result=a-b\n",
    "multi_result=a*b\n",
    "div_result=a/b\n",
    "print(add_result)\n",
    "print(sub_result)\n",
    "print(multi_result)\n",
    "print(div_result)"
   ]
  },
  {
   "cell_type": "code",
   "execution_count": null,
   "id": "d962883f",
   "metadata": {},
   "outputs": [],
   "source": []
  }
 ],
 "metadata": {
  "kernelspec": {
   "display_name": "venv",
   "language": "python",
   "name": "python3"
  },
  "language_info": {
   "codemirror_mode": {
    "name": "ipython",
    "version": 3
   },
   "file_extension": ".py",
   "mimetype": "text/x-python",
   "name": "python",
   "nbconvert_exporter": "python",
   "pygments_lexer": "ipython3",
   "version": "3.12.0"
  }
 },
 "nbformat": 4,
 "nbformat_minor": 5
}
