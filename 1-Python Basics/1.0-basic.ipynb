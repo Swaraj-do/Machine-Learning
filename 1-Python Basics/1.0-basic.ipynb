{
 "cells": [
  {
   "cell_type": "markdown",
   "id": "d428f24d",
   "metadata": {},
   "source": [
    "### Syntax and Semantics in Python\n"
   ]
  },
  {
   "cell_type": "markdown",
   "id": "d132c3f7",
   "metadata": {},
   "source": [
    "Outline:\n",
    " <li>Single line Comments and Multiline Comments</li>\n",
    " <li>Definition of Syntax and Semantics</li>\n",
    " <li>Basic Syntax Rules in Python</li>\n",
    " <li>Understanding Semantics in Python</li>\n",
    " <li>Common Syntax Errors and How to Avoid Them</li>\n",
    " <li>Practical Code Examples</li>"
   ]
  },
  {
   "cell_type": "markdown",
   "id": "bf64e22d",
   "metadata": {},
   "source": [
    "Syntax refers to the set of rules that defines the combination of symbols that are considered to be correctly structured programs in a language. In simpler terms, syntax is about the correct arrangement of words and symbols in a code."
   ]
  },
  {
   "cell_type": "code",
   "execution_count": 3,
   "id": "857e323c",
   "metadata": {},
   "outputs": [
    {
     "name": "stdout",
     "output_type": "stream",
     "text": [
      "Swaraj\n",
      "Krish\n"
     ]
    }
   ],
   "source": [
    "# case sensitive\n",
    "name=\"Swaraj\"\n",
    "Name=\"Krish\"\n",
    "print(name)\n",
    "print(Name)"
   ]
  },
  {
   "cell_type": "code",
   "execution_count": 1,
   "id": "061c63f6",
   "metadata": {},
   "outputs": [],
   "source": [
    "# this is a single line comment\n"
   ]
  },
  {
   "cell_type": "markdown",
   "id": "edd14285",
   "metadata": {},
   "source": [
    "### Indentation\n",
    "Indentation in python is used to define the structure and hierarchy of the code. Unlike many other programming languages that use braces{} to delimit blocks of code, Python uses indetation to determine the grouping of statements. This means that all the statements within a block must be indented at the same level."
   ]
  },
  {
   "cell_type": "code",
   "execution_count": 13,
   "id": "344d5c68",
   "metadata": {},
   "outputs": [],
   "source": [
    "## Indentation\n",
    "## Python uses indentation to define blocks of code. Consistent use of spaces (commonly 4) or a tab is"
   ]
  },
  {
   "cell_type": "code",
   "execution_count": 12,
   "id": "78803173",
   "metadata": {},
   "outputs": [
    {
     "name": "stdout",
     "output_type": "stream",
     "text": [
      "43\n"
     ]
    }
   ],
   "source": [
    "## Line Continuation\n",
    "## Use a backslash (\\) to continue a statement to next line\n",
    "\n",
    "total=1+2+3+4+5+6+7+\\\n",
    "  4+5+6\n",
    "\n",
    "print(total)"
   ]
  },
  {
   "cell_type": "code",
   "execution_count": 2,
   "id": "f509b987",
   "metadata": {},
   "outputs": [
    {
     "name": "stdout",
     "output_type": "stream",
     "text": [
      "15\n"
     ]
    }
   ],
   "source": [
    "## Multiple statements on a single line\n",
    "x=5;y=10;z=x+y\n",
    "print(z)"
   ]
  },
  {
   "cell_type": "code",
   "execution_count": 4,
   "id": "2f5fc92e",
   "metadata": {},
   "outputs": [],
   "source": [
    "## Understand Semantics In python\n",
    "# Variable assignment\n",
    "age=32 ##age is an integer\n",
    "name= \"Krish\" ##name is a string\n"
   ]
  },
  {
   "cell_type": "code",
   "execution_count": null,
   "id": "63371942",
   "metadata": {},
   "outputs": [
    {
     "data": {
      "text/plain": [
       "int"
      ]
     },
     "execution_count": 5,
     "metadata": {},
     "output_type": "execute_result"
    }
   ],
   "source": [
    "\n",
    "type(age)"
   ]
  },
  {
   "cell_type": "code",
   "execution_count": 6,
   "id": "c1878278",
   "metadata": {},
   "outputs": [
    {
     "data": {
      "text/plain": [
       "str"
      ]
     },
     "execution_count": 6,
     "metadata": {},
     "output_type": "execute_result"
    }
   ],
   "source": [
    "type(name)"
   ]
  },
  {
   "cell_type": "code",
   "execution_count": 8,
   "id": "7e7fa2d7",
   "metadata": {},
   "outputs": [
    {
     "name": "stdout",
     "output_type": "stream",
     "text": [
      "<class 'int'>\n",
      "<class 'str'>\n"
     ]
    }
   ],
   "source": [
    "## Type Inference\n",
    "variable=10\n",
    "print(type(variable))\n",
    "variable=\"Krish\"\n",
    "print(type(variable))"
   ]
  },
  {
   "cell_type": "code",
   "execution_count": 10,
   "id": "f9e12ad5",
   "metadata": {},
   "outputs": [
    {
     "name": "stdout",
     "output_type": "stream",
     "text": [
      "32\n"
     ]
    }
   ],
   "source": [
    "age=32\n",
    "if age>30:\n",
    "  print(age)   ##Identation"
   ]
  },
  {
   "cell_type": "code",
   "execution_count": 11,
   "id": "94e395d7",
   "metadata": {},
   "outputs": [
    {
     "name": "stdout",
     "output_type": "stream",
     "text": [
      "Correct Identation\n",
      "This will print\n",
      "Outside the if block\n"
     ]
    }
   ],
   "source": [
    "## Code examples of identation\n",
    "if True:\n",
    "  print(\"Correct Identation\")\n",
    "  if False:\n",
    "    print(\"This ont print\")\n",
    "  print(\"This will print\")\n",
    "print(\"Outside the if block\")"
   ]
  },
  {
   "cell_type": "code",
   "execution_count": null,
   "id": "3f327eb7",
   "metadata": {},
   "outputs": [],
   "source": []
  }
 ],
 "metadata": {
  "kernelspec": {
   "display_name": "venv",
   "language": "python",
   "name": "python3"
  },
  "language_info": {
   "codemirror_mode": {
    "name": "ipython",
    "version": 3
   },
   "file_extension": ".py",
   "mimetype": "text/x-python",
   "name": "python",
   "nbconvert_exporter": "python",
   "pygments_lexer": "ipython3",
   "version": "3.12.0"
  }
 },
 "nbformat": 4,
 "nbformat_minor": 5
}
