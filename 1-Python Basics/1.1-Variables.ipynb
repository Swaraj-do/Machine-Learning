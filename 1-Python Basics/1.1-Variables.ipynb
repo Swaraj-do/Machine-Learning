{
 "cells": [
  {
   "cell_type": "markdown",
   "id": "c4659074",
   "metadata": {},
   "source": [
    "### Variables\n",
    "Variables are fundamental elements in programming used to store data that can be referenced and manipulated in a program. In python, variables are created when you assign a value to them, and they do not need explicit declaration to resolve memory space. The declaration happens automatically when you assign a value to a variable."
   ]
  },
  {
   "cell_type": "markdown",
   "id": "241d63eb",
   "metadata": {},
   "source": []
  }
 ],
 "metadata": {
  "language_info": {
   "name": "python"
  }
 },
 "nbformat": 4,
 "nbformat_minor": 5
}
